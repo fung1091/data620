{
 "cells": [
  {
   "cell_type": "markdown",
   "metadata": {
    "collapsed": true
   },
   "source": [
    "# Data 620 assignment 1:  “hello, graph world” "
   ]
  },
  {
   "cell_type": "markdown",
   "metadata": {},
   "source": [
    "## Group 1 Members:\n",
    "- Tze Fung Lung, Jim\n",
    "- Yun Mai\n",
    "- Ahsanul Choudhury\n"
   ]
  },
  {
   "cell_type": "markdown",
   "metadata": {},
   "source": [
    "### Process: When software developers are starting to work in a new environment, they are encouraged to start with a simple “beachhead” program. "
   ]
  },
  {
   "cell_type": "code",
   "execution_count": 57,
   "metadata": {
    "collapsed": true
   },
   "outputs": [],
   "source": [
    "import graphlab as gl\n",
    "gl.canvas.set_target('ipynb') # use IPython Notebook output for GraphLab"
   ]
  },
  {
   "cell_type": "code",
   "execution_count": 58,
   "metadata": {
    "collapsed": false
   },
   "outputs": [
    {
     "data": {
      "text/html": [
       "<pre>Finished parsing file https://raw.githubusercontent.com/fung1091/data620/master/hw1/vertices.csv</pre>"
      ],
      "text/plain": [
       "Finished parsing file https://raw.githubusercontent.com/fung1091/data620/master/hw1/vertices.csv"
      ]
     },
     "metadata": {},
     "output_type": "display_data"
    },
    {
     "data": {
      "text/html": [
       "<pre>Parsing completed. Parsed 10 lines in 0.062497 secs.</pre>"
      ],
      "text/plain": [
       "Parsing completed. Parsed 10 lines in 0.062497 secs."
      ]
     },
     "metadata": {},
     "output_type": "display_data"
    },
    {
     "name": "stdout",
     "output_type": "stream",
     "text": [
      "------------------------------------------------------\n",
      "Inferred types from first 100 line(s) of file as \n",
      "column_type_hints=[str]\n",
      "If parsing fails due to incorrect types, you can correct\n",
      "the inferred type list above and pass it to read_csv in\n",
      "the column_type_hints argument\n",
      "------------------------------------------------------\n"
     ]
    },
    {
     "data": {
      "text/html": [
       "<pre>Finished parsing file https://raw.githubusercontent.com/fung1091/data620/master/hw1/vertices.csv</pre>"
      ],
      "text/plain": [
       "Finished parsing file https://raw.githubusercontent.com/fung1091/data620/master/hw1/vertices.csv"
      ]
     },
     "metadata": {},
     "output_type": "display_data"
    },
    {
     "data": {
      "text/html": [
       "<pre>Parsing completed. Parsed 10 lines in 0.109382 secs.</pre>"
      ],
      "text/plain": [
       "Parsing completed. Parsed 10 lines in 0.109382 secs."
      ]
     },
     "metadata": {},
     "output_type": "display_data"
    },
    {
     "data": {
      "text/html": [
       "<pre>Finished parsing file https://raw.githubusercontent.com/fung1091/data620/master/hw1/edges.csv</pre>"
      ],
      "text/plain": [
       "Finished parsing file https://raw.githubusercontent.com/fung1091/data620/master/hw1/edges.csv"
      ]
     },
     "metadata": {},
     "output_type": "display_data"
    },
    {
     "data": {
      "text/html": [
       "<pre>Parsing completed. Parsed 36 lines in 0.062499 secs.</pre>"
      ],
      "text/plain": [
       "Parsing completed. Parsed 36 lines in 0.062499 secs."
      ]
     },
     "metadata": {},
     "output_type": "display_data"
    },
    {
     "name": "stdout",
     "output_type": "stream",
     "text": [
      "------------------------------------------------------\n",
      "Inferred types from first 100 line(s) of file as \n",
      "column_type_hints=[str,str]\n",
      "If parsing fails due to incorrect types, you can correct\n",
      "the inferred type list above and pass it to read_csv in\n",
      "the column_type_hints argument\n",
      "------------------------------------------------------\n"
     ]
    },
    {
     "data": {
      "text/html": [
       "<pre>Finished parsing file https://raw.githubusercontent.com/fung1091/data620/master/hw1/edges.csv</pre>"
      ],
      "text/plain": [
       "Finished parsing file https://raw.githubusercontent.com/fung1091/data620/master/hw1/edges.csv"
      ]
     },
     "metadata": {},
     "output_type": "display_data"
    },
    {
     "data": {
      "text/html": [
       "<pre>Parsing completed. Parsed 36 lines in 0.076524 secs.</pre>"
      ],
      "text/plain": [
       "Parsing completed. Parsed 36 lines in 0.076524 secs."
      ]
     },
     "metadata": {},
     "output_type": "display_data"
    }
   ],
   "source": [
    "vertices = gl.SFrame.read_csv('https://raw.githubusercontent.com/fung1091/data620/master/hw1/vertices.csv')\n",
    "edges = gl.SFrame.read_csv('https://raw.githubusercontent.com/fung1091/data620/master/hw1/edges.csv')"
   ]
  },
  {
   "cell_type": "code",
   "execution_count": 59,
   "metadata": {
    "collapsed": false
   },
   "outputs": [
    {
     "data": {
      "application/javascript": [
       "$(\"head\").append($(\"<link/>\").attr({\n",
       "  rel:  \"stylesheet\",\n",
       "  type: \"text/css\",\n",
       "  href: \"//cdnjs.cloudflare.com/ajax/libs/font-awesome/4.1.0/css/font-awesome.min.css\"\n",
       "}));\n",
       "$(\"head\").append($(\"<link/>\").attr({\n",
       "  rel:  \"stylesheet\",\n",
       "  type: \"text/css\",\n",
       "  href: \"https://static.turi.com/products/graphlab-create/2.1/canvas/css/canvas.css\"\n",
       "}));\n",
       "\n",
       "            (function(){\n",
       "\n",
       "                var e = null;\n",
       "                if (typeof element == 'undefined') {\n",
       "                    var scripts = document.getElementsByTagName('script');\n",
       "                    var thisScriptTag = scripts[scripts.length-1];\n",
       "                    var parentDiv = thisScriptTag.parentNode;\n",
       "                    e = document.createElement('div');\n",
       "                    parentDiv.appendChild(e);\n",
       "                } else {\n",
       "                    e = element[0];\n",
       "                }\n",
       "\n",
       "                if (typeof requirejs !== 'undefined') {\n",
       "                    // disable load timeout; ipython_app.js is large and can take a while to load.\n",
       "                    requirejs.config({waitSeconds: 0});\n",
       "                }\n",
       "\n",
       "                require(['https://static.turi.com/products/graphlab-create/2.1/canvas/js/ipython_app.js'], function(IPythonApp){\n",
       "                    var app = new IPythonApp();\n",
       "                    app.attachView('sframe','Summary', {\"ipython\": true, \"sketch\": {\"name\": {\"complete\": true, \"numeric\": false, \"num_unique\": 10, \"num_undefined\": 0, \"progress\": 1.0, \"frequent_items\": {\"heather\": {\"frequency\": 1, \"value\": \"heather\"}, \"ed\": {\"frequency\": 1, \"value\": \"ed\"}, \"diane\": {\"frequency\": 1, \"value\": \"diane\"}, \"fernando\": {\"frequency\": 1, \"value\": \"fernando\"}, \"andre\": {\"frequency\": 1, \"value\": \"andre\"}, \"ike\": {\"frequency\": 1, \"value\": \"ike\"}, \"garth\": {\"frequency\": 1, \"value\": \"garth\"}, \"jane\": {\"frequency\": 1, \"value\": \"jane\"}, \"carol\": {\"frequency\": 1, \"value\": \"carol\"}, \"beverly\": {\"frequency\": 1, \"value\": \"beverly\"}}, \"size\": 10}}, \"selected_variable\": {\"name\": [\"vertices\"], \"descriptives\": {\"rows\": 10, \"columns\": 1}, \"view_component\": \"Summary\", \"view_file\": \"sframe\", \"view_params\": {\"y\": null, \"x\": null, \"columns\": [\"name\"], \"view\": null}, \"view_components\": [\"Summary\", \"Table\", \"Bar Chart\", \"BoxWhisker Plot\", \"Line Chart\", \"Scatter Plot\", \"Heat Map\", \"Plots\"], \"type\": \"SFrame\", \"columns\": [{\"dtype\": \"str\", \"name\": \"name\"}], \"column_identifiers\": [\"name\"]}, \"columns\": [{\"dtype\": \"str\", \"name\": \"name\"}]}, e);\n",
       "                });\n",
       "            })();\n",
       "        "
      ]
     },
     "metadata": {},
     "output_type": "display_data"
    }
   ],
   "source": [
    "# SFrame has a number of methods to explore and transform your data\n",
    "vertices.show()"
   ]
  },
  {
   "cell_type": "code",
   "execution_count": 60,
   "metadata": {
    "collapsed": false
   },
   "outputs": [
    {
     "data": {
      "application/javascript": [
       "$(\"head\").append($(\"<link/>\").attr({\n",
       "  rel:  \"stylesheet\",\n",
       "  type: \"text/css\",\n",
       "  href: \"//cdnjs.cloudflare.com/ajax/libs/font-awesome/4.1.0/css/font-awesome.min.css\"\n",
       "}));\n",
       "$(\"head\").append($(\"<link/>\").attr({\n",
       "  rel:  \"stylesheet\",\n",
       "  type: \"text/css\",\n",
       "  href: \"https://static.turi.com/products/graphlab-create/2.1/canvas/css/canvas.css\"\n",
       "}));\n",
       "\n",
       "            (function(){\n",
       "\n",
       "                var e = null;\n",
       "                if (typeof element == 'undefined') {\n",
       "                    var scripts = document.getElementsByTagName('script');\n",
       "                    var thisScriptTag = scripts[scripts.length-1];\n",
       "                    var parentDiv = thisScriptTag.parentNode;\n",
       "                    e = document.createElement('div');\n",
       "                    parentDiv.appendChild(e);\n",
       "                } else {\n",
       "                    e = element[0];\n",
       "                }\n",
       "\n",
       "                if (typeof requirejs !== 'undefined') {\n",
       "                    // disable load timeout; ipython_app.js is large and can take a while to load.\n",
       "                    requirejs.config({waitSeconds: 0});\n",
       "                }\n",
       "\n",
       "                require(['https://static.turi.com/products/graphlab-create/2.1/canvas/js/ipython_app.js'], function(IPythonApp){\n",
       "                    var app = new IPythonApp();\n",
       "                    app.attachView('sframe','Summary', {\"ipython\": true, \"sketch\": {\"src\": {\"complete\": true, \"numeric\": false, \"num_unique\": 10, \"num_undefined\": 0, \"progress\": 1.0, \"frequent_items\": {\"heather\": {\"frequency\": 3, \"value\": \"heather\"}, \"ed\": {\"frequency\": 3, \"value\": \"ed\"}, \"diane\": {\"frequency\": 6, \"value\": \"diane\"}, \"fernando\": {\"frequency\": 5, \"value\": \"fernando\"}, \"andre\": {\"frequency\": 4, \"value\": \"andre\"}, \"ike\": {\"frequency\": 2, \"value\": \"ike\"}, \"garth\": {\"frequency\": 5, \"value\": \"garth\"}, \"jane\": {\"frequency\": 1, \"value\": \"jane\"}, \"carol\": {\"frequency\": 3, \"value\": \"carol\"}, \"beverly\": {\"frequency\": 4, \"value\": \"beverly\"}}, \"size\": 36}, \"dst\": {\"complete\": true, \"numeric\": false, \"num_unique\": 10, \"num_undefined\": 0, \"progress\": 1.0, \"frequent_items\": {\"heather\": {\"frequency\": 3, \"value\": \"heather\"}, \"ed\": {\"frequency\": 3, \"value\": \"ed\"}, \"diane\": {\"frequency\": 6, \"value\": \"diane\"}, \"fernando\": {\"frequency\": 5, \"value\": \"fernando\"}, \"andre\": {\"frequency\": 4, \"value\": \"andre\"}, \"ike\": {\"frequency\": 2, \"value\": \"ike\"}, \"garth\": {\"frequency\": 5, \"value\": \"garth\"}, \"jane\": {\"frequency\": 1, \"value\": \"jane\"}, \"carol\": {\"frequency\": 3, \"value\": \"carol\"}, \"beverly\": {\"frequency\": 4, \"value\": \"beverly\"}}, \"size\": 36}}, \"selected_variable\": {\"name\": [\"edges\"], \"descriptives\": {\"rows\": 36, \"columns\": 2}, \"view_component\": \"Summary\", \"view_file\": \"sframe\", \"view_params\": {\"y\": null, \"x\": null, \"columns\": [\"src\", \"dst\"], \"view\": null}, \"view_components\": [\"Summary\", \"Table\", \"Bar Chart\", \"BoxWhisker Plot\", \"Line Chart\", \"Scatter Plot\", \"Heat Map\", \"Plots\"], \"type\": \"SFrame\", \"columns\": [{\"dtype\": \"str\", \"name\": \"src\"}, {\"dtype\": \"str\", \"name\": \"dst\"}], \"column_identifiers\": [\"src\", \"dst\"]}, \"columns\": [{\"dtype\": \"str\", \"name\": \"src\"}, {\"dtype\": \"str\", \"name\": \"dst\"}]}, e);\n",
       "                });\n",
       "            })();\n",
       "        "
      ]
     },
     "metadata": {},
     "output_type": "display_data"
    }
   ],
   "source": [
    "# this shows the summary of the edges SFrame\n",
    "edges.show()"
   ]
  },
  {
   "cell_type": "markdown",
   "metadata": {},
   "source": [
    "# Create a graph object"
   ]
  },
  {
   "cell_type": "code",
   "execution_count": 61,
   "metadata": {
    "collapsed": true
   },
   "outputs": [],
   "source": [
    "g = gl.SGraph()"
   ]
  },
  {
   "cell_type": "code",
   "execution_count": 62,
   "metadata": {
    "collapsed": false
   },
   "outputs": [
    {
     "data": {
      "text/html": [
       "<div style=\"max-height:1000px;max-width:1500px;overflow:auto;\"><table frame=\"box\" rules=\"cols\">\n",
       "    <tr>\n",
       "        <th style=\"padding-left: 1em; padding-right: 1em; text-align: center\">src</th>\n",
       "        <th style=\"padding-left: 1em; padding-right: 1em; text-align: center\">dst</th>\n",
       "    </tr>\n",
       "    <tr>\n",
       "        <td style=\"padding-left: 1em; padding-right: 1em; text-align: center; vertical-align: top\">andre</td>\n",
       "        <td style=\"padding-left: 1em; padding-right: 1em; text-align: center; vertical-align: top\">carol</td>\n",
       "    </tr>\n",
       "    <tr>\n",
       "        <td style=\"padding-left: 1em; padding-right: 1em; text-align: center; vertical-align: top\">carol</td>\n",
       "        <td style=\"padding-left: 1em; padding-right: 1em; text-align: center; vertical-align: top\">fernando</td>\n",
       "    </tr>\n",
       "    <tr>\n",
       "        <td style=\"padding-left: 1em; padding-right: 1em; text-align: center; vertical-align: top\">fernando</td>\n",
       "        <td style=\"padding-left: 1em; padding-right: 1em; text-align: center; vertical-align: top\">carol</td>\n",
       "    </tr>\n",
       "    <tr>\n",
       "        <td style=\"padding-left: 1em; padding-right: 1em; text-align: center; vertical-align: top\">carol</td>\n",
       "        <td style=\"padding-left: 1em; padding-right: 1em; text-align: center; vertical-align: top\">diane</td>\n",
       "    </tr>\n",
       "    <tr>\n",
       "        <td style=\"padding-left: 1em; padding-right: 1em; text-align: center; vertical-align: top\">andre</td>\n",
       "        <td style=\"padding-left: 1em; padding-right: 1em; text-align: center; vertical-align: top\">diane</td>\n",
       "    </tr>\n",
       "    <tr>\n",
       "        <td style=\"padding-left: 1em; padding-right: 1em; text-align: center; vertical-align: top\">andre</td>\n",
       "        <td style=\"padding-left: 1em; padding-right: 1em; text-align: center; vertical-align: top\">fernando</td>\n",
       "    </tr>\n",
       "    <tr>\n",
       "        <td style=\"padding-left: 1em; padding-right: 1em; text-align: center; vertical-align: top\">fernando</td>\n",
       "        <td style=\"padding-left: 1em; padding-right: 1em; text-align: center; vertical-align: top\">diane</td>\n",
       "    </tr>\n",
       "    <tr>\n",
       "        <td style=\"padding-left: 1em; padding-right: 1em; text-align: center; vertical-align: top\">beverly</td>\n",
       "        <td style=\"padding-left: 1em; padding-right: 1em; text-align: center; vertical-align: top\">diane</td>\n",
       "    </tr>\n",
       "    <tr>\n",
       "        <td style=\"padding-left: 1em; padding-right: 1em; text-align: center; vertical-align: top\">beverly</td>\n",
       "        <td style=\"padding-left: 1em; padding-right: 1em; text-align: center; vertical-align: top\">garth</td>\n",
       "    </tr>\n",
       "    <tr>\n",
       "        <td style=\"padding-left: 1em; padding-right: 1em; text-align: center; vertical-align: top\">garth</td>\n",
       "        <td style=\"padding-left: 1em; padding-right: 1em; text-align: center; vertical-align: top\">beverly</td>\n",
       "    </tr>\n",
       "</table>\n",
       "[? rows x 2 columns]<br/>Note: Only the head of the SFrame is printed. This SFrame is lazily evaluated.<br/>You can use sf.materialize() to force materialization.\n",
       "</div>"
      ],
      "text/plain": [
       "Columns:\n",
       "\tsrc\tstr\n",
       "\tdst\tstr\n",
       "\n",
       "Rows: Unknown\n",
       "\n",
       "Data:\n",
       "+----------+----------+\n",
       "|   src    |   dst    |\n",
       "+----------+----------+\n",
       "|  andre   |  carol   |\n",
       "|  carol   | fernando |\n",
       "| fernando |  carol   |\n",
       "|  carol   |  diane   |\n",
       "|  andre   |  diane   |\n",
       "|  andre   | fernando |\n",
       "| fernando |  diane   |\n",
       "| beverly  |  diane   |\n",
       "| beverly  |  garth   |\n",
       "|  garth   | beverly  |\n",
       "+----------+----------+\n",
       "[? rows x 2 columns]\n",
       "Note: Only the head of the SFrame is printed. This SFrame is lazily evaluated.\n",
       "You can use sf.materialize() to force materialization."
      ]
     },
     "execution_count": 62,
     "metadata": {},
     "output_type": "execute_result"
    }
   ],
   "source": [
    "edges[(edges['src'] !='diane') & (edges['dst'] !='andre')]"
   ]
  },
  {
   "cell_type": "code",
   "execution_count": 63,
   "metadata": {
    "collapsed": true
   },
   "outputs": [],
   "source": [
    "# add some vertices in a dataflow-ish way\n",
    "g = g.add_vertices(vertices=vertices, vid_field='name')"
   ]
  },
  {
   "cell_type": "code",
   "execution_count": 64,
   "metadata": {
    "collapsed": true
   },
   "outputs": [],
   "source": [
    "# more dataflow\n",
    "g = g.add_edges(edges=edges, src_field='src', dst_field='dst')"
   ]
  },
  {
   "cell_type": "code",
   "execution_count": 65,
   "metadata": {
    "collapsed": false
   },
   "outputs": [
    {
     "data": {
      "application/javascript": [
       "$(\"head\").append($(\"<link/>\").attr({\n",
       "  rel:  \"stylesheet\",\n",
       "  type: \"text/css\",\n",
       "  href: \"//cdnjs.cloudflare.com/ajax/libs/font-awesome/4.1.0/css/font-awesome.min.css\"\n",
       "}));\n",
       "$(\"head\").append($(\"<link/>\").attr({\n",
       "  rel:  \"stylesheet\",\n",
       "  type: \"text/css\",\n",
       "  href: \"https://static.turi.com/products/graphlab-create/2.1/canvas/css/canvas.css\"\n",
       "}));\n",
       "\n",
       "            (function(){\n",
       "\n",
       "                var e = null;\n",
       "                if (typeof element == 'undefined') {\n",
       "                    var scripts = document.getElementsByTagName('script');\n",
       "                    var thisScriptTag = scripts[scripts.length-1];\n",
       "                    var parentDiv = thisScriptTag.parentNode;\n",
       "                    e = document.createElement('div');\n",
       "                    parentDiv.appendChild(e);\n",
       "                } else {\n",
       "                    e = element[0];\n",
       "                }\n",
       "\n",
       "                if (typeof requirejs !== 'undefined') {\n",
       "                    // disable load timeout; ipython_app.js is large and can take a while to load.\n",
       "                    requirejs.config({waitSeconds: 0});\n",
       "                }\n",
       "\n",
       "                require(['https://static.turi.com/products/graphlab-create/2.1/canvas/js/ipython_app.js'], function(IPythonApp){\n",
       "                    var app = new IPythonApp();\n",
       "                    app.attachView('sgraph','View', {\"edges_labels\": null, \"selected_variable\": {\"name\": [\"g\"], \"view_file\": \"sgraph\", \"view_component\": \"View\", \"view_params\": {\"elabel_hover\": false, \"vertex_positions\": null, \"h_offset\": 0.0, \"node_size\": 300, \"ecolor\": [0.37, 0.33, 0.33], \"elabel\": null, \"arrows\": false, \"ewidth\": 1, \"vlabel\": \"id\", \"highlight_color\": [0.69, 0.0, 0.498], \"vcolor\": [0.522, 0.741, 0.0], \"vlabel_hover\": false, \"highlight\": {}, \"v_offset\": 0.03}, \"view_components\": [\"View\"], \"type\": \"SGraph\", \"descriptives_links\": {\"edges\": \"edges\", \"vertices\": \"vertices\"}, \"descriptives\": {\"edges\": 36, \"vertices\": 10}}, \"positions\": null, \"error_type\": 0, \"vertices\": [\"garth\", \"ed\", \"carol\", \"andre\", \"jane\", \"fernando\", \"beverly\", \"ike\", \"diane\", \"heather\"], \"vertices_labels\": [\"garth\", \"ed\", \"carol\", \"andre\", \"jane\", \"fernando\", \"beverly\", \"ike\", \"diane\", \"heather\"], \"edges\": [[\"ed\", \"garth\"], [\"garth\", \"ed\"], [\"garth\", \"fernando\"], [\"garth\", \"beverly\"], [\"ed\", \"beverly\"], [\"ed\", \"diane\"], [\"garth\", \"diane\"], [\"garth\", \"heather\"], [\"carol\", \"andre\"], [\"andre\", \"carol\"], [\"carol\", \"fernando\"], [\"andre\", \"fernando\"], [\"andre\", \"beverly\"], [\"carol\", \"diane\"], [\"andre\", \"diane\"], [\"fernando\", \"garth\"], [\"beverly\", \"garth\"], [\"beverly\", \"ed\"], [\"fernando\", \"carol\"], [\"beverly\", \"andre\"], [\"fernando\", \"andre\"], [\"jane\", \"ike\"], [\"fernando\", \"diane\"], [\"beverly\", \"diane\"], [\"fernando\", \"heather\"], [\"ike\", \"jane\"], [\"ike\", \"heather\"], [\"diane\", \"ed\"], [\"diane\", \"garth\"], [\"diane\", \"carol\"], [\"diane\", \"andre\"], [\"diane\", \"fernando\"], [\"diane\", \"beverly\"], [\"heather\", \"garth\"], [\"heather\", \"fernando\"], [\"heather\", \"ike\"]], \"ipython\": true, \"error_msg\": \"\"}, e);\n",
       "                });\n",
       "            })();\n",
       "        "
      ]
     },
     "metadata": {},
     "output_type": "display_data"
    }
   ],
   "source": [
    "g.show(vlabel=\"id\")"
   ]
  },
  {
   "cell_type": "code",
   "execution_count": 66,
   "metadata": {
    "collapsed": false
   },
   "outputs": [
    {
     "data": {
      "image/svg+xml": [
       "<svg data-reactid=\".e.0.0.1.0\" height=\"600\" width=\"600\" xmlns=\"http://www.w3.org/2000/svg\"><g data-reactid=\".e.0.0.1.0.0:$0\"><line data-reactid=\".e.0.0.1.0.0:$0.$0\" style=\"stroke:#5e5454;stroke-width:1;\" x1=\"58.3441\" x2=\"221.653\" y1=\"241.843\" y2=\"218.946\"/></g><g data-reactid=\".e.0.0.1.0.0:$1\"><line data-reactid=\".e.0.0.1.0.0:$1.$0\" style=\"stroke:#5e5454;stroke-width:1;\" x1=\"221.653\" x2=\"58.3441\" y1=\"218.946\" y2=\"241.843\"/></g><g data-reactid=\".e.0.0.1.0.0:$2\"><line data-reactid=\".e.0.0.1.0.0:$2.$0\" style=\"stroke:#5e5454;stroke-width:1;\" x1=\"221.653\" x2=\"131.22\" y1=\"218.946\" y2=\"278.245\"/></g><g data-reactid=\".e.0.0.1.0.0:$3\"><line data-reactid=\".e.0.0.1.0.0:$3.$0\" style=\"stroke:#5e5454;stroke-width:1;\" x1=\"58.3441\" x2=\"131.22\" y1=\"241.843\" y2=\"278.245\"/></g><g data-reactid=\".e.0.0.1.0.0:$4\"><line data-reactid=\".e.0.0.1.0.0:$4.$0\" style=\"stroke:#5e5454;stroke-width:1;\" x1=\"221.653\" x2=\"194.545\" y1=\"218.946\" y2=\"96.0153\"/></g><g data-reactid=\".e.0.0.1.0.0:$5\"><line data-reactid=\".e.0.0.1.0.0:$5.$0\" style=\"stroke:#5e5454;stroke-width:1;\" x1=\"58.3441\" x2=\"134.557\" y1=\"241.843\" y2=\"167.152\"/></g><g data-reactid=\".e.0.0.1.0.0:$6\"><line data-reactid=\".e.0.0.1.0.0:$6.$0\" style=\"stroke:#5e5454;stroke-width:1;\" x1=\"221.653\" x2=\"134.557\" y1=\"218.946\" y2=\"167.152\"/></g><g data-reactid=\".e.0.0.1.0.0:$7\"><line data-reactid=\".e.0.0.1.0.0:$7.$0\" style=\"stroke:#5e5454;stroke-width:1;\" x1=\"221.653\" x2=\"315.631\" y1=\"218.946\" y2=\"139.08\"/></g><g data-reactid=\".e.0.0.1.0.0:$8\"><line data-reactid=\".e.0.0.1.0.0:$8.$0\" style=\"stroke:#5e5454;stroke-width:1;\" x1=\"88.991\" x2=\"50\" y1=\"50\" y2=\"150.027\"/></g><g data-reactid=\".e.0.0.1.0.0:$9\"><line data-reactid=\".e.0.0.1.0.0:$9.$0\" style=\"stroke:#5e5454;stroke-width:1;\" x1=\"50\" x2=\"88.991\" y1=\"150.027\" y2=\"50\"/></g><g data-reactid=\".e.0.0.1.0.0:$10\"><line data-reactid=\".e.0.0.1.0.0:$10.$0\" style=\"stroke:#5e5454;stroke-width:1;\" x1=\"88.991\" x2=\"194.545\" y1=\"50\" y2=\"96.0153\"/></g><g data-reactid=\".e.0.0.1.0.0:$11\"><line data-reactid=\".e.0.0.1.0.0:$11.$0\" style=\"stroke:#5e5454;stroke-width:1;\" x1=\"50\" x2=\"194.545\" y1=\"150.027\" y2=\"96.0153\"/></g><g data-reactid=\".e.0.0.1.0.0:$12\"><line data-reactid=\".e.0.0.1.0.0:$12.$0\" style=\"stroke:#5e5454;stroke-width:1;\" x1=\"50\" x2=\"131.22\" y1=\"150.027\" y2=\"278.245\"/></g><g data-reactid=\".e.0.0.1.0.0:$13\"><line data-reactid=\".e.0.0.1.0.0:$13.$0\" style=\"stroke:#5e5454;stroke-width:1;\" x1=\"88.991\" x2=\"134.557\" y1=\"50\" y2=\"167.152\"/></g><g data-reactid=\".e.0.0.1.0.0:$14\"><line data-reactid=\".e.0.0.1.0.0:$14.$0\" style=\"stroke:#5e5454;stroke-width:1;\" x1=\"50\" x2=\"134.557\" y1=\"150.027\" y2=\"167.152\"/></g><g data-reactid=\".e.0.0.1.0.0:$15\"><line data-reactid=\".e.0.0.1.0.0:$15.$0\" style=\"stroke:#5e5454;stroke-width:1;\" x1=\"131.22\" x2=\"221.653\" y1=\"278.245\" y2=\"218.946\"/></g><g data-reactid=\".e.0.0.1.0.0:$16\"><line data-reactid=\".e.0.0.1.0.0:$16.$0\" style=\"stroke:#5e5454;stroke-width:1;\" x1=\"131.22\" x2=\"58.3441\" y1=\"278.245\" y2=\"241.843\"/></g><g data-reactid=\".e.0.0.1.0.0:$17\"><line data-reactid=\".e.0.0.1.0.0:$17.$0\" style=\"stroke:#5e5454;stroke-width:1;\" x1=\"194.545\" x2=\"221.653\" y1=\"96.0153\" y2=\"218.946\"/></g><g data-reactid=\".e.0.0.1.0.0:$18\"><line data-reactid=\".e.0.0.1.0.0:$18.$0\" style=\"stroke:#5e5454;stroke-width:1;\" x1=\"194.545\" x2=\"88.991\" y1=\"96.0153\" y2=\"50\"/></g><g data-reactid=\".e.0.0.1.0.0:$19\"><line data-reactid=\".e.0.0.1.0.0:$19.$0\" style=\"stroke:#5e5454;stroke-width:1;\" x1=\"194.545\" x2=\"50\" y1=\"96.0153\" y2=\"150.027\"/></g><g data-reactid=\".e.0.0.1.0.0:$20\"><line data-reactid=\".e.0.0.1.0.0:$20.$0\" style=\"stroke:#5e5454;stroke-width:1;\" x1=\"131.22\" x2=\"50\" y1=\"278.245\" y2=\"150.027\"/></g><g data-reactid=\".e.0.0.1.0.0:$21\"><line data-reactid=\".e.0.0.1.0.0:$21.$0\" style=\"stroke:#5e5454;stroke-width:1;\" x1=\"550\" x2=\"442.724\" y1=\"99.6367\" y2=\"150.828\"/></g><g data-reactid=\".e.0.0.1.0.0:$22\"><line data-reactid=\".e.0.0.1.0.0:$22.$0\" style=\"stroke:#5e5454;stroke-width:1;\" x1=\"194.545\" x2=\"134.557\" y1=\"96.0153\" y2=\"167.152\"/></g><g data-reactid=\".e.0.0.1.0.0:$23\"><line data-reactid=\".e.0.0.1.0.0:$23.$0\" style=\"stroke:#5e5454;stroke-width:1;\" x1=\"131.22\" x2=\"134.557\" y1=\"278.245\" y2=\"167.152\"/></g><g data-reactid=\".e.0.0.1.0.0:$24\"><line data-reactid=\".e.0.0.1.0.0:$24.$0\" style=\"stroke:#5e5454;stroke-width:1;\" x1=\"194.545\" x2=\"315.631\" y1=\"96.0153\" y2=\"139.08\"/></g><g data-reactid=\".e.0.0.1.0.0:$25\"><line data-reactid=\".e.0.0.1.0.0:$25.$0\" style=\"stroke:#5e5454;stroke-width:1;\" x1=\"442.724\" x2=\"550\" y1=\"150.828\" y2=\"99.6367\"/></g><g data-reactid=\".e.0.0.1.0.0:$26\"><line data-reactid=\".e.0.0.1.0.0:$26.$0\" style=\"stroke:#5e5454;stroke-width:1;\" x1=\"442.724\" x2=\"315.631\" y1=\"150.828\" y2=\"139.08\"/></g><g data-reactid=\".e.0.0.1.0.0:$27\"><line data-reactid=\".e.0.0.1.0.0:$27.$0\" style=\"stroke:#5e5454;stroke-width:1;\" x1=\"134.557\" x2=\"58.3441\" y1=\"167.152\" y2=\"241.843\"/></g><g data-reactid=\".e.0.0.1.0.0:$28\"><line data-reactid=\".e.0.0.1.0.0:$28.$0\" style=\"stroke:#5e5454;stroke-width:1;\" x1=\"134.557\" x2=\"221.653\" y1=\"167.152\" y2=\"218.946\"/></g><g data-reactid=\".e.0.0.1.0.0:$29\"><line data-reactid=\".e.0.0.1.0.0:$29.$0\" style=\"stroke:#5e5454;stroke-width:1;\" x1=\"134.557\" x2=\"88.991\" y1=\"167.152\" y2=\"50\"/></g><g data-reactid=\".e.0.0.1.0.0:$30\"><line data-reactid=\".e.0.0.1.0.0:$30.$0\" style=\"stroke:#5e5454;stroke-width:1;\" x1=\"134.557\" x2=\"50\" y1=\"167.152\" y2=\"150.027\"/></g><g data-reactid=\".e.0.0.1.0.0:$31\"><line data-reactid=\".e.0.0.1.0.0:$31.$0\" style=\"stroke:#5e5454;stroke-width:1;\" x1=\"134.557\" x2=\"194.545\" y1=\"167.152\" y2=\"96.0153\"/></g><g data-reactid=\".e.0.0.1.0.0:$32\"><line data-reactid=\".e.0.0.1.0.0:$32.$0\" style=\"stroke:#5e5454;stroke-width:1;\" x1=\"134.557\" x2=\"131.22\" y1=\"167.152\" y2=\"278.245\"/></g><g data-reactid=\".e.0.0.1.0.0:$33\"><line data-reactid=\".e.0.0.1.0.0:$33.$0\" style=\"stroke:#5e5454;stroke-width:1;\" x1=\"315.631\" x2=\"221.653\" y1=\"139.08\" y2=\"218.946\"/></g><g data-reactid=\".e.0.0.1.0.0:$34\"><line data-reactid=\".e.0.0.1.0.0:$34.$0\" style=\"stroke:#5e5454;stroke-width:1;\" x1=\"315.631\" x2=\"194.545\" y1=\"139.08\" y2=\"96.0153\"/></g><g data-reactid=\".e.0.0.1.0.0:$35\"><line data-reactid=\".e.0.0.1.0.0:$35.$0\" style=\"stroke:#5e5454;stroke-width:1;\" x1=\"315.631\" x2=\"442.724\" y1=\"139.08\" y2=\"150.828\"/></g><circle cx=\"221.653\" cy=\"218.946\" data-reactid=\".e.0.0.1.0.1:$0\" r=\"8\" style=\"fill:#85bc00;\"/><circle cx=\"58.3441\" cy=\"241.843\" data-reactid=\".e.0.0.1.0.1:$1\" r=\"8\" style=\"fill:#85bc00;\"/><circle cx=\"88.991\" cy=\"50\" data-reactid=\".e.0.0.1.0.1:$2\" r=\"8\" style=\"fill:#85bc00;\"/><circle cx=\"50\" cy=\"150.027\" data-reactid=\".e.0.0.1.0.1:$3\" r=\"8\" style=\"fill:#85bc00;\"/><circle cx=\"550\" cy=\"99.6367\" data-reactid=\".e.0.0.1.0.1:$4\" r=\"8\" style=\"fill:#85bc00;\"/><circle cx=\"194.545\" cy=\"96.0153\" data-reactid=\".e.0.0.1.0.1:$5\" r=\"8\" style=\"fill:#85bc00;\"/><circle cx=\"131.22\" cy=\"278.245\" data-reactid=\".e.0.0.1.0.1:$6\" r=\"8\" style=\"fill:#85bc00;\"/><circle cx=\"442.724\" cy=\"150.828\" data-reactid=\".e.0.0.1.0.1:$7\" r=\"8\" style=\"fill:#85bc00;\"/><circle cx=\"134.557\" cy=\"167.152\" data-reactid=\".e.0.0.1.0.1:$8\" r=\"8\" style=\"fill:#85bc00;\"/><circle cx=\"315.631\" cy=\"139.08\" data-reactid=\".e.0.0.1.0.1:$9\" r=\"8\" style=\"fill:#85bc00;\"/><g data-reactid=\".e.0.0.1.0.3:$0\"><text data-reactid=\".e.0.0.1.0.3:$0.0\" style=\"text-anchor:middle;fill:white;stroke:white;stroke-width:5;opacity:0.9;\" x=\"221.6526\" y=\"200.9459\">garth</text><text data-reactid=\".e.0.0.1.0.3:$0.1\" style=\"text-anchor:middle;fill:black;\" x=\"221.6526\" y=\"200.9459\">garth</text></g><g data-reactid=\".e.0.0.1.0.3:$1\"><text data-reactid=\".e.0.0.1.0.3:$1.0\" style=\"text-anchor:middle;fill:white;stroke:white;stroke-width:5;opacity:0.9;\" x=\"58.3441\" y=\"223.8435\">ed</text><text data-reactid=\".e.0.0.1.0.3:$1.1\" style=\"text-anchor:middle;fill:black;\" x=\"58.3441\" y=\"223.8435\">ed</text></g><g data-reactid=\".e.0.0.1.0.3:$2\"><text data-reactid=\".e.0.0.1.0.3:$2.0\" style=\"text-anchor:middle;fill:white;stroke:white;stroke-width:5;opacity:0.9;\" x=\"88.991\" y=\"32\">carol</text><text data-reactid=\".e.0.0.1.0.3:$2.1\" style=\"text-anchor:middle;fill:black;\" x=\"88.991\" y=\"32\">carol</text></g><g data-reactid=\".e.0.0.1.0.3:$3\"><text data-reactid=\".e.0.0.1.0.3:$3.0\" style=\"text-anchor:middle;fill:white;stroke:white;stroke-width:5;opacity:0.9;\" x=\"50\" y=\"132.0269\">andre</text><text data-reactid=\".e.0.0.1.0.3:$3.1\" style=\"text-anchor:middle;fill:black;\" x=\"50\" y=\"132.0269\">andre</text></g><g data-reactid=\".e.0.0.1.0.3:$4\"><text data-reactid=\".e.0.0.1.0.3:$4.0\" style=\"text-anchor:middle;fill:white;stroke:white;stroke-width:5;opacity:0.9;\" x=\"550\" y=\"81.6367\">jane</text><text data-reactid=\".e.0.0.1.0.3:$4.1\" style=\"text-anchor:middle;fill:black;\" x=\"550\" y=\"81.6367\">jane</text></g><g data-reactid=\".e.0.0.1.0.3:$5\"><text data-reactid=\".e.0.0.1.0.3:$5.0\" style=\"text-anchor:middle;fill:white;stroke:white;stroke-width:5;opacity:0.9;\" x=\"194.5447\" y=\"78.0153\">fernando</text><text data-reactid=\".e.0.0.1.0.3:$5.1\" style=\"text-anchor:middle;fill:black;\" x=\"194.5447\" y=\"78.0153\">fernando</text></g><g data-reactid=\".e.0.0.1.0.3:$6\"><text data-reactid=\".e.0.0.1.0.3:$6.0\" style=\"text-anchor:middle;fill:white;stroke:white;stroke-width:5;opacity:0.9;\" x=\"131.2199\" y=\"260.2446\">beverly</text><text data-reactid=\".e.0.0.1.0.3:$6.1\" style=\"text-anchor:middle;fill:black;\" x=\"131.2199\" y=\"260.2446\">beverly</text></g><g data-reactid=\".e.0.0.1.0.3:$7\"><text data-reactid=\".e.0.0.1.0.3:$7.0\" style=\"text-anchor:middle;fill:white;stroke:white;stroke-width:5;opacity:0.9;\" x=\"442.7242\" y=\"132.8284\">ike</text><text data-reactid=\".e.0.0.1.0.3:$7.1\" style=\"text-anchor:middle;fill:black;\" x=\"442.7242\" y=\"132.8284\">ike</text></g><g data-reactid=\".e.0.0.1.0.3:$8\"><text data-reactid=\".e.0.0.1.0.3:$8.0\" style=\"text-anchor:middle;fill:white;stroke:white;stroke-width:5;opacity:0.9;\" x=\"134.5571\" y=\"149.1524\">diane</text><text data-reactid=\".e.0.0.1.0.3:$8.1\" style=\"text-anchor:middle;fill:black;\" x=\"134.5571\" y=\"149.1524\">diane</text></g><g data-reactid=\".e.0.0.1.0.3:$9\"><text data-reactid=\".e.0.0.1.0.3:$9.0\" style=\"text-anchor:middle;fill:white;stroke:white;stroke-width:5;opacity:0.9;\" x=\"315.631\" y=\"121.0805\">heather</text><text data-reactid=\".e.0.0.1.0.3:$9.1\" style=\"text-anchor:middle;fill:black;\" x=\"315.631\" y=\"121.0805\">heather</text></g></svg>"
      ],
      "text/plain": [
       "<IPython.core.display.SVG object>"
      ]
     },
     "execution_count": 66,
     "metadata": {},
     "output_type": "execute_result"
    }
   ],
   "source": [
    "from IPython.display import SVG\n",
    "def show_svg():\n",
    "    return SVG(url='https://raw.githubusercontent.com/fung1091/data620/master/hw1/data620hw1.svg')\n",
    "show_svg()\n"
   ]
  },
  {
   "cell_type": "markdown",
   "metadata": {},
   "source": [
    "# Apply the pagerank algorithm to our graph"
   ]
  },
  {
   "cell_type": "code",
   "execution_count": 67,
   "metadata": {
    "collapsed": false
   },
   "outputs": [
    {
     "data": {
      "text/html": [
       "<pre>Counting out degree</pre>"
      ],
      "text/plain": [
       "Counting out degree"
      ]
     },
     "metadata": {},
     "output_type": "display_data"
    },
    {
     "data": {
      "text/html": [
       "<pre>Done counting out degree</pre>"
      ],
      "text/plain": [
       "Done counting out degree"
      ]
     },
     "metadata": {},
     "output_type": "display_data"
    },
    {
     "data": {
      "text/html": [
       "<pre>+-----------+-----------------------+</pre>"
      ],
      "text/plain": [
       "+-----------+-----------------------+"
      ]
     },
     "metadata": {},
     "output_type": "display_data"
    },
    {
     "data": {
      "text/html": [
       "<pre>| Iteration | L1 change in pagerank |</pre>"
      ],
      "text/plain": [
       "| Iteration | L1 change in pagerank |"
      ]
     },
     "metadata": {},
     "output_type": "display_data"
    },
    {
     "data": {
      "text/html": [
       "<pre>+-----------+-----------------------+</pre>"
      ],
      "text/plain": [
       "+-----------+-----------------------+"
      ]
     },
     "metadata": {},
     "output_type": "display_data"
    },
    {
     "data": {
      "text/html": [
       "<pre>| 1         | 2.49333               |</pre>"
      ],
      "text/plain": [
       "| 1         | 2.49333               |"
      ]
     },
     "metadata": {},
     "output_type": "display_data"
    },
    {
     "data": {
      "text/html": [
       "<pre>| 2         | 1.07733               |</pre>"
      ],
      "text/plain": [
       "| 2         | 1.07733               |"
      ]
     },
     "metadata": {},
     "output_type": "display_data"
    },
    {
     "data": {
      "text/html": [
       "<pre>| 3         | 0.738986              |</pre>"
      ],
      "text/plain": [
       "| 3         | 0.738986              |"
      ]
     },
     "metadata": {},
     "output_type": "display_data"
    },
    {
     "data": {
      "text/html": [
       "<pre>| 4         | 0.501417              |</pre>"
      ],
      "text/plain": [
       "| 4         | 0.501417              |"
      ]
     },
     "metadata": {},
     "output_type": "display_data"
    },
    {
     "data": {
      "text/html": [
       "<pre>| 5         | 0.33979               |</pre>"
      ],
      "text/plain": [
       "| 5         | 0.33979               |"
      ]
     },
     "metadata": {},
     "output_type": "display_data"
    },
    {
     "data": {
      "text/html": [
       "<pre>| 6         | 0.256258              |</pre>"
      ],
      "text/plain": [
       "| 6         | 0.256258              |"
      ]
     },
     "metadata": {},
     "output_type": "display_data"
    },
    {
     "data": {
      "text/html": [
       "<pre>| 7         | 0.170334              |</pre>"
      ],
      "text/plain": [
       "| 7         | 0.170334              |"
      ]
     },
     "metadata": {},
     "output_type": "display_data"
    },
    {
     "data": {
      "text/html": [
       "<pre>| 8         | 0.129226              |</pre>"
      ],
      "text/plain": [
       "| 8         | 0.129226              |"
      ]
     },
     "metadata": {},
     "output_type": "display_data"
    },
    {
     "data": {
      "text/html": [
       "<pre>| 9         | 0.0853165             |</pre>"
      ],
      "text/plain": [
       "| 9         | 0.0853165             |"
      ]
     },
     "metadata": {},
     "output_type": "display_data"
    },
    {
     "data": {
      "text/html": [
       "<pre>| 10        | 0.0651076             |</pre>"
      ],
      "text/plain": [
       "| 10        | 0.0651076             |"
      ]
     },
     "metadata": {},
     "output_type": "display_data"
    },
    {
     "data": {
      "text/html": [
       "<pre>| 11        | 0.0427623             |</pre>"
      ],
      "text/plain": [
       "| 11        | 0.0427623             |"
      ]
     },
     "metadata": {},
     "output_type": "display_data"
    },
    {
     "data": {
      "text/html": [
       "<pre>| 12        | 0.0328138             |</pre>"
      ],
      "text/plain": [
       "| 12        | 0.0328138             |"
      ]
     },
     "metadata": {},
     "output_type": "display_data"
    },
    {
     "data": {
      "text/html": [
       "<pre>| 13        | 0.0214502             |</pre>"
      ],
      "text/plain": [
       "| 13        | 0.0214502             |"
      ]
     },
     "metadata": {},
     "output_type": "display_data"
    },
    {
     "data": {
      "text/html": [
       "<pre>| 14        | 0.0165451             |</pre>"
      ],
      "text/plain": [
       "| 14        | 0.0165451             |"
      ]
     },
     "metadata": {},
     "output_type": "display_data"
    },
    {
     "data": {
      "text/html": [
       "<pre>| 15        | 0.0107679             |</pre>"
      ],
      "text/plain": [
       "| 15        | 0.0107679             |"
      ]
     },
     "metadata": {},
     "output_type": "display_data"
    },
    {
     "data": {
      "text/html": [
       "<pre>| 16        | 0.00834577            |</pre>"
      ],
      "text/plain": [
       "| 16        | 0.00834577            |"
      ]
     },
     "metadata": {},
     "output_type": "display_data"
    },
    {
     "data": {
      "text/html": [
       "<pre>+-----------+-----------------------+</pre>"
      ],
      "text/plain": [
       "+-----------+-----------------------+"
      ]
     },
     "metadata": {},
     "output_type": "display_data"
    }
   ],
   "source": [
    "pr = gl.pagerank.create(g)"
   ]
  },
  {
   "cell_type": "code",
   "execution_count": 68,
   "metadata": {
    "collapsed": false,
    "scrolled": true
   },
   "outputs": [
    {
     "data": {
      "text/html": [
       "<div style=\"max-height:1000px;max-width:1500px;overflow:auto;\"><table frame=\"box\" rules=\"cols\">\n",
       "    <tr>\n",
       "        <th style=\"padding-left: 1em; padding-right: 1em; text-align: center\">__id</th>\n",
       "        <th style=\"padding-left: 1em; padding-right: 1em; text-align: center\">pagerank</th>\n",
       "        <th style=\"padding-left: 1em; padding-right: 1em; text-align: center\">delta</th>\n",
       "    </tr>\n",
       "    <tr>\n",
       "        <td style=\"padding-left: 1em; padding-right: 1em; text-align: center; vertical-align: top\">diane</td>\n",
       "        <td style=\"padding-left: 1em; padding-right: 1em; text-align: center; vertical-align: top\">1.47113788753</td>\n",
       "        <td style=\"padding-left: 1em; padding-right: 1em; text-align: center; vertical-align: top\">0.000402861444182</td>\n",
       "    </tr>\n",
       "    <tr>\n",
       "        <td style=\"padding-left: 1em; padding-right: 1em; text-align: center; vertical-align: top\">fernando</td>\n",
       "        <td style=\"padding-left: 1em; padding-right: 1em; text-align: center; vertical-align: top\">1.28866352405</td>\n",
       "        <td style=\"padding-left: 1em; padding-right: 1em; text-align: center; vertical-align: top\">0.000619352316094</td>\n",
       "    </tr>\n",
       "    <tr>\n",
       "        <td style=\"padding-left: 1em; padding-right: 1em; text-align: center; vertical-align: top\">garth</td>\n",
       "        <td style=\"padding-left: 1em; padding-right: 1em; text-align: center; vertical-align: top\">1.28866352405</td>\n",
       "        <td style=\"padding-left: 1em; padding-right: 1em; text-align: center; vertical-align: top\">0.000619352316094</td>\n",
       "    </tr>\n",
       "    <tr>\n",
       "        <td style=\"padding-left: 1em; padding-right: 1em; text-align: center; vertical-align: top\">andre</td>\n",
       "        <td style=\"padding-left: 1em; padding-right: 1em; text-align: center; vertical-align: top\">1.01892307246</td>\n",
       "        <td style=\"padding-left: 1em; padding-right: 1em; text-align: center; vertical-align: top\">0.000201729912852</td>\n",
       "    </tr>\n",
       "    <tr>\n",
       "        <td style=\"padding-left: 1em; padding-right: 1em; text-align: center; vertical-align: top\">beverly</td>\n",
       "        <td style=\"padding-left: 1em; padding-right: 1em; text-align: center; vertical-align: top\">1.01892307246</td>\n",
       "        <td style=\"padding-left: 1em; padding-right: 1em; text-align: center; vertical-align: top\">0.000201729912852</td>\n",
       "    </tr>\n",
       "    <tr>\n",
       "        <td style=\"padding-left: 1em; padding-right: 1em; text-align: center; vertical-align: top\">heather</td>\n",
       "        <td style=\"padding-left: 1em; padding-right: 1em; text-align: center; vertical-align: top\">0.953682942928</td>\n",
       "        <td style=\"padding-left: 1em; padding-right: 1em; text-align: center; vertical-align: top\">0.00165781968312</td>\n",
       "    </tr>\n",
       "    <tr>\n",
       "        <td style=\"padding-left: 1em; padding-right: 1em; text-align: center; vertical-align: top\">ike</td>\n",
       "        <td style=\"padding-left: 1em; padding-right: 1em; text-align: center; vertical-align: top\">0.856658205613</td>\n",
       "        <td style=\"padding-left: 1em; padding-right: 1em; text-align: center; vertical-align: top\">0.00293418253803</td>\n",
       "    </tr>\n",
       "    <tr>\n",
       "        <td style=\"padding-left: 1em; padding-right: 1em; text-align: center; vertical-align: top\">ed</td>\n",
       "        <td style=\"padding-left: 1em; padding-right: 1em; text-align: center; vertical-align: top\">0.79401050297</td>\n",
       "        <td style=\"padding-left: 1em; padding-right: 1em; text-align: center; vertical-align: top\">0.000201434171881</td>\n",
       "    </tr>\n",
       "    <tr>\n",
       "        <td style=\"padding-left: 1em; padding-right: 1em; text-align: center; vertical-align: top\">carol</td>\n",
       "        <td style=\"padding-left: 1em; padding-right: 1em; text-align: center; vertical-align: top\">0.79401050297</td>\n",
       "        <td style=\"padding-left: 1em; padding-right: 1em; text-align: center; vertical-align: top\">0.000201434171881</td>\n",
       "    </tr>\n",
       "    <tr>\n",
       "        <td style=\"padding-left: 1em; padding-right: 1em; text-align: center; vertical-align: top\">jane</td>\n",
       "        <td style=\"padding-left: 1em; padding-right: 1em; text-align: center; vertical-align: top\">0.515326764964</td>\n",
       "        <td style=\"padding-left: 1em; padding-right: 1em; text-align: center; vertical-align: top\">0.00130587787346</td>\n",
       "    </tr>\n",
       "</table>\n",
       "[10 rows x 3 columns]<br/>\n",
       "</div>"
      ],
      "text/plain": [
       "Columns:\n",
       "\t__id\tstr\n",
       "\tpagerank\tfloat\n",
       "\tdelta\tfloat\n",
       "\n",
       "Rows: 10\n",
       "\n",
       "Data:\n",
       "+----------+----------------+-------------------+\n",
       "|   __id   |    pagerank    |       delta       |\n",
       "+----------+----------------+-------------------+\n",
       "|  diane   | 1.47113788753  | 0.000402861444182 |\n",
       "| fernando | 1.28866352405  | 0.000619352316094 |\n",
       "|  garth   | 1.28866352405  | 0.000619352316094 |\n",
       "|  andre   | 1.01892307246  | 0.000201729912852 |\n",
       "| beverly  | 1.01892307246  | 0.000201729912852 |\n",
       "| heather  | 0.953682942928 |  0.00165781968312 |\n",
       "|   ike    | 0.856658205613 |  0.00293418253803 |\n",
       "|    ed    | 0.79401050297  | 0.000201434171881 |\n",
       "|  carol   | 0.79401050297  | 0.000201434171881 |\n",
       "|   jane   | 0.515326764964 |  0.00130587787346 |\n",
       "+----------+----------------+-------------------+\n",
       "[10 rows x 3 columns]"
      ]
     },
     "execution_count": 68,
     "metadata": {},
     "output_type": "execute_result"
    }
   ],
   "source": [
    "pr.get('pagerank').topk(column_name='pagerank')"
   ]
  },
  {
   "cell_type": "markdown",
   "metadata": {},
   "source": [
    "Pagerank rankings are definitely related to the graph as we can see that Diane is the top ranking element as she has 7 links to others."
   ]
  },
  {
   "cell_type": "code",
   "execution_count": null,
   "metadata": {
    "collapsed": true
   },
   "outputs": [],
   "source": []
  }
 ],
 "metadata": {
  "kernelspec": {
   "display_name": "Python 2",
   "language": "python",
   "name": "python2"
  },
  "language_info": {
   "codemirror_mode": {
    "name": "ipython",
    "version": 2
   },
   "file_extension": ".py",
   "mimetype": "text/x-python",
   "name": "python",
   "nbconvert_exporter": "python",
   "pygments_lexer": "ipython2",
   "version": "2.7.11"
  }
 },
 "nbformat": 4,
 "nbformat_minor": 0
}
